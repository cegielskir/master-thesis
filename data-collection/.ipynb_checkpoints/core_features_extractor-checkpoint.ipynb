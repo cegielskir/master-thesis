{
 "cells": [
  {
   "cell_type": "code",
   "execution_count": 25,
   "metadata": {},
   "outputs": [],
   "source": [
    "import os\n",
    "import json\n",
    "import re\n",
    "import numpy as np"
   ]
  },
  {
   "cell_type": "code",
   "execution_count": 2,
   "metadata": {},
   "outputs": [],
   "source": [
    "def get_files_sizes_features(files_sizes, all_files_sizes):\n",
    "    size_features = []\n",
    "    size_features.append(min(files_sizes), all_files_sizes)\n",
    "    size_features.append(max(files_sizes), all_files_sizes)\n",
    "    size_features.append(sum(files_sizes)/len(files_sizes), all_files_sizes)\n",
    "    size_features.append(len(files_sizes))\n",
    "                                               \n",
    "    return size_features"
   ]
  },
  {
   "cell_type": "code",
   "execution_count": 3,
   "metadata": {},
   "outputs": [],
   "source": [
    "def find_file_size_s3(names, output):\n",
    "    file_sizes = []\n",
    "    for name in names:\n",
    "        file_size = re.search('([0-9]+) ' + name, output)\n",
    "        file_sizes.append(file_size.group(1))\n",
    "    return file_sizes"
   ]
  },
  {
   "cell_type": "code",
   "execution_count": 4,
   "metadata": {},
   "outputs": [],
   "source": [
    "def get_inout_files_features(s3_path, files):\n",
    "    ls_result = ls_aws_s3_and_capture(s3_path)\n",
    "    files_sizes = []\n",
    "    for file in files:\n",
    "        file_size = re.search('([0-9]+) ' + file['name'], ls_result)\n",
    "        files_sizes.append(file_size.group(1))\n",
    "    files_sizes = list(map(int, files_sizes))\n",
    "    all_sizes = re.findall('([0-9]+) \\S*', ls_result)\n",
    "    np_sizes = np.array(list(map(int, all_sizes)))\n",
    "    return get_files_sizes_features(files_sizes, np_sizes)"
   ]
  },
  {
   "cell_type": "code",
   "execution_count": 5,
   "metadata": {},
   "outputs": [],
   "source": [
    "def get_task_count_features(task_name, task_map):\n",
    "    features = []\n",
    "    features.append(task_map[task_name])\n",
    "    sum_task_count = 0\n",
    "    for task in task_map.keys():\n",
    "        sum_task_count += task_map[task]\n",
    "    features.append(int(task_map[task_name]))\n",
    "    features.append(int(sum_task_count))\n",
    "\n",
    "    features.append(list(task_map.keys()).index(task_name))\n",
    "    \n",
    "    return features"
   ]
  },
  {
   "cell_type": "code",
   "execution_count": 6,
   "metadata": {},
   "outputs": [],
   "source": [
    "def get_tasks_count_map(workflow_file_path):\n",
    "    with open(workflow_file_path) as json_workflow:\n",
    "        process_number_map = {}\n",
    "        data = json.load(json_workflow)\n",
    "        for process in data['processes']:\n",
    "            process_name = process['name']\n",
    "            process_number_map = append_proccess_to_map(process_number_map, process_name)\n",
    "        return process_number_map"
   ]
  },
  {
   "cell_type": "code",
   "execution_count": 7,
   "metadata": {},
   "outputs": [],
   "source": [
    "def ls_aws_s3_and_capture(s3_path):\n",
    "    result = ! aws s3 ls {s3_path}\n",
    "    return ' '.join(result)"
   ]
  },
  {
   "cell_type": "code",
   "execution_count": 8,
   "metadata": {},
   "outputs": [],
   "source": [
    "def get_compiles_files_features(s3_path, task_name):\n",
    "    compiles_ls_result = ls_aws_s3_and_capture(s3_path)\n",
    "    all_sizes = re.findall('([0-9]+) \\S*', compiles_ls_result)\n",
    "    np_compiled_sizes = np.array(list(map(int, all_sizes)))\n",
    "    file_size = int(find_file_size_s3([task_name], compiles_ls_result)[0])\n",
    "    return file_size"
   ]
  },
  {
   "cell_type": "code",
   "execution_count": 18,
   "metadata": {},
   "outputs": [],
   "source": [
    "def append_proccess_to_map(process_number_map, process):\n",
    "    if(process in process_number_map):\n",
    "        process_number_map[process] += 1\n",
    "    else:\n",
    "        process_number_map[process] = 1\n",
    "    return process_number_map"
   ]
  },
  {
   "cell_type": "code",
   "execution_count": 9,
   "metadata": {},
   "outputs": [],
   "source": [
    "def get_all_features(task_name, ins, outs, task_count_map):\n",
    "    all_features = []\n",
    "    all_features.extend(get_task_count_features(task_name, task_count_map))\n",
    "    all_features.extend(get_inout_files_features('cegielskir/montageV2_6-0.35/', ins))\n",
    "    all_features.extend(get_inout_files_features('cegielskir/montageV2_6-0.35/', outs))\n",
    "    all_features.extend([(get_compiles_files_features('cegielskir/montageV2_6-compiles/', task_name))])\n",
    "    return all_features   "
   ]
  },
  {
   "cell_type": "code",
   "execution_count": 26,
   "metadata": {},
   "outputs": [
    {
     "name": "stdout",
     "output_type": "stream",
     "text": [
      "mDiffFit_516.json\n"
     ]
    },
    {
     "ename": "TypeError",
     "evalue": "append() takes exactly one argument (2 given)",
     "output_type": "error",
     "traceback": [
      "\u001b[0;31m---------------------------------------------------------------------------\u001b[0m",
      "\u001b[0;31mTypeError\u001b[0m                                 Traceback (most recent call last)",
      "\u001b[0;32m<ipython-input-26-58997712ed7f>\u001b[0m in \u001b[0;36m<module>\u001b[0;34m\u001b[0m\n\u001b[1;32m     11\u001b[0m         \u001b[0mins\u001b[0m \u001b[0;34m=\u001b[0m \u001b[0;34m[\u001b[0m \u001b[0mdata\u001b[0m\u001b[0;34m[\u001b[0m\u001b[0;34m'signals'\u001b[0m\u001b[0;34m]\u001b[0m\u001b[0;34m[\u001b[0m\u001b[0mi\u001b[0m\u001b[0;34m]\u001b[0m \u001b[0;32mfor\u001b[0m \u001b[0mi\u001b[0m \u001b[0;32min\u001b[0m \u001b[0mprocess\u001b[0m\u001b[0;34m[\u001b[0m\u001b[0;34m'ins'\u001b[0m\u001b[0;34m]\u001b[0m \u001b[0;34m]\u001b[0m\u001b[0;34m\u001b[0m\u001b[0;34m\u001b[0m\u001b[0m\n\u001b[1;32m     12\u001b[0m         \u001b[0mouts\u001b[0m \u001b[0;34m=\u001b[0m \u001b[0;34m[\u001b[0m \u001b[0mdata\u001b[0m\u001b[0;34m[\u001b[0m\u001b[0;34m'signals'\u001b[0m\u001b[0;34m]\u001b[0m\u001b[0;34m[\u001b[0m\u001b[0mi\u001b[0m\u001b[0;34m]\u001b[0m \u001b[0;32mfor\u001b[0m \u001b[0mi\u001b[0m \u001b[0;32min\u001b[0m \u001b[0mprocess\u001b[0m\u001b[0;34m[\u001b[0m\u001b[0;34m'outs'\u001b[0m\u001b[0;34m]\u001b[0m \u001b[0;34m]\u001b[0m\u001b[0;34m\u001b[0m\u001b[0;34m\u001b[0m\u001b[0m\n\u001b[0;32m---> 13\u001b[0;31m         \u001b[0mcore_features\u001b[0m \u001b[0;34m=\u001b[0m \u001b[0mget_all_features\u001b[0m\u001b[0;34m(\u001b[0m\u001b[0mtask_name\u001b[0m\u001b[0;34m,\u001b[0m \u001b[0mins\u001b[0m\u001b[0;34m,\u001b[0m \u001b[0mouts\u001b[0m\u001b[0;34m,\u001b[0m \u001b[0mtask_count_map\u001b[0m\u001b[0;34m)\u001b[0m\u001b[0;34m\u001b[0m\u001b[0;34m\u001b[0m\u001b[0m\n\u001b[0m\u001b[1;32m     14\u001b[0m         \u001b[0mprint\u001b[0m\u001b[0;34m(\u001b[0m\u001b[0mcore_features\u001b[0m\u001b[0;34m)\u001b[0m\u001b[0;34m\u001b[0m\u001b[0;34m\u001b[0m\u001b[0m\n",
      "\u001b[0;32m<ipython-input-9-ffde9c78b7fb>\u001b[0m in \u001b[0;36mget_all_features\u001b[0;34m(task_name, ins, outs, task_count_map)\u001b[0m\n\u001b[1;32m      2\u001b[0m     \u001b[0mall_features\u001b[0m \u001b[0;34m=\u001b[0m \u001b[0;34m[\u001b[0m\u001b[0;34m]\u001b[0m\u001b[0;34m\u001b[0m\u001b[0;34m\u001b[0m\u001b[0m\n\u001b[1;32m      3\u001b[0m     \u001b[0mall_features\u001b[0m\u001b[0;34m.\u001b[0m\u001b[0mextend\u001b[0m\u001b[0;34m(\u001b[0m\u001b[0mget_task_count_features\u001b[0m\u001b[0;34m(\u001b[0m\u001b[0mtask_name\u001b[0m\u001b[0;34m,\u001b[0m \u001b[0mtask_count_map\u001b[0m\u001b[0;34m)\u001b[0m\u001b[0;34m)\u001b[0m\u001b[0;34m\u001b[0m\u001b[0;34m\u001b[0m\u001b[0m\n\u001b[0;32m----> 4\u001b[0;31m     \u001b[0mall_features\u001b[0m\u001b[0;34m.\u001b[0m\u001b[0mextend\u001b[0m\u001b[0;34m(\u001b[0m\u001b[0mget_inout_files_features\u001b[0m\u001b[0;34m(\u001b[0m\u001b[0;34m'cegielskir/montageV2_6-0.35/'\u001b[0m\u001b[0;34m,\u001b[0m \u001b[0mins\u001b[0m\u001b[0;34m)\u001b[0m\u001b[0;34m)\u001b[0m\u001b[0;34m\u001b[0m\u001b[0;34m\u001b[0m\u001b[0m\n\u001b[0m\u001b[1;32m      5\u001b[0m     \u001b[0mall_features\u001b[0m\u001b[0;34m.\u001b[0m\u001b[0mextend\u001b[0m\u001b[0;34m(\u001b[0m\u001b[0mget_inout_files_features\u001b[0m\u001b[0;34m(\u001b[0m\u001b[0;34m'cegielskir/montageV2_6-0.35/'\u001b[0m\u001b[0;34m,\u001b[0m \u001b[0mouts\u001b[0m\u001b[0;34m)\u001b[0m\u001b[0;34m)\u001b[0m\u001b[0;34m\u001b[0m\u001b[0;34m\u001b[0m\u001b[0m\n\u001b[1;32m      6\u001b[0m     \u001b[0mall_features\u001b[0m\u001b[0;34m.\u001b[0m\u001b[0mextend\u001b[0m\u001b[0;34m(\u001b[0m\u001b[0;34m[\u001b[0m\u001b[0;34m(\u001b[0m\u001b[0mget_compiles_files_features\u001b[0m\u001b[0;34m(\u001b[0m\u001b[0;34m'cegielskir/montageV2_6-compiles/'\u001b[0m\u001b[0;34m,\u001b[0m \u001b[0mtask_name\u001b[0m\u001b[0;34m)\u001b[0m\u001b[0;34m)\u001b[0m\u001b[0;34m]\u001b[0m\u001b[0;34m)\u001b[0m\u001b[0;34m\u001b[0m\u001b[0;34m\u001b[0m\u001b[0m\n",
      "\u001b[0;32m<ipython-input-4-fd6720766e27>\u001b[0m in \u001b[0;36mget_inout_files_features\u001b[0;34m(s3_path, files)\u001b[0m\n\u001b[1;32m      8\u001b[0m     \u001b[0mall_sizes\u001b[0m \u001b[0;34m=\u001b[0m \u001b[0mre\u001b[0m\u001b[0;34m.\u001b[0m\u001b[0mfindall\u001b[0m\u001b[0;34m(\u001b[0m\u001b[0;34m'([0-9]+) \\S*'\u001b[0m\u001b[0;34m,\u001b[0m \u001b[0mls_result\u001b[0m\u001b[0;34m)\u001b[0m\u001b[0;34m\u001b[0m\u001b[0;34m\u001b[0m\u001b[0m\n\u001b[1;32m      9\u001b[0m     \u001b[0mnp_sizes\u001b[0m \u001b[0;34m=\u001b[0m \u001b[0mnp\u001b[0m\u001b[0;34m.\u001b[0m\u001b[0marray\u001b[0m\u001b[0;34m(\u001b[0m\u001b[0mlist\u001b[0m\u001b[0;34m(\u001b[0m\u001b[0mmap\u001b[0m\u001b[0;34m(\u001b[0m\u001b[0mint\u001b[0m\u001b[0;34m,\u001b[0m \u001b[0mall_sizes\u001b[0m\u001b[0;34m)\u001b[0m\u001b[0;34m)\u001b[0m\u001b[0;34m)\u001b[0m\u001b[0;34m\u001b[0m\u001b[0;34m\u001b[0m\u001b[0m\n\u001b[0;32m---> 10\u001b[0;31m     \u001b[0;32mreturn\u001b[0m \u001b[0mget_files_sizes_features\u001b[0m\u001b[0;34m(\u001b[0m\u001b[0mfiles_sizes\u001b[0m\u001b[0;34m,\u001b[0m \u001b[0mnp_sizes\u001b[0m\u001b[0;34m)\u001b[0m\u001b[0;34m\u001b[0m\u001b[0;34m\u001b[0m\u001b[0m\n\u001b[0m",
      "\u001b[0;32m<ipython-input-2-5437a4b8fc59>\u001b[0m in \u001b[0;36mget_files_sizes_features\u001b[0;34m(files_sizes, all_files_sizes)\u001b[0m\n\u001b[1;32m      1\u001b[0m \u001b[0;32mdef\u001b[0m \u001b[0mget_files_sizes_features\u001b[0m\u001b[0;34m(\u001b[0m\u001b[0mfiles_sizes\u001b[0m\u001b[0;34m,\u001b[0m \u001b[0mall_files_sizes\u001b[0m\u001b[0;34m)\u001b[0m\u001b[0;34m:\u001b[0m\u001b[0;34m\u001b[0m\u001b[0;34m\u001b[0m\u001b[0m\n\u001b[1;32m      2\u001b[0m     \u001b[0msize_features\u001b[0m \u001b[0;34m=\u001b[0m \u001b[0;34m[\u001b[0m\u001b[0;34m]\u001b[0m\u001b[0;34m\u001b[0m\u001b[0;34m\u001b[0m\u001b[0m\n\u001b[0;32m----> 3\u001b[0;31m     \u001b[0msize_features\u001b[0m\u001b[0;34m.\u001b[0m\u001b[0mappend\u001b[0m\u001b[0;34m(\u001b[0m\u001b[0mmin\u001b[0m\u001b[0;34m(\u001b[0m\u001b[0mfiles_sizes\u001b[0m\u001b[0;34m)\u001b[0m\u001b[0;34m,\u001b[0m \u001b[0mall_files_sizes\u001b[0m\u001b[0;34m)\u001b[0m\u001b[0;34m\u001b[0m\u001b[0;34m\u001b[0m\u001b[0m\n\u001b[0m\u001b[1;32m      4\u001b[0m     \u001b[0msize_features\u001b[0m\u001b[0;34m.\u001b[0m\u001b[0mappend\u001b[0m\u001b[0;34m(\u001b[0m\u001b[0mmax\u001b[0m\u001b[0;34m(\u001b[0m\u001b[0mfiles_sizes\u001b[0m\u001b[0;34m)\u001b[0m\u001b[0;34m,\u001b[0m \u001b[0mall_files_sizes\u001b[0m\u001b[0;34m)\u001b[0m\u001b[0;34m\u001b[0m\u001b[0;34m\u001b[0m\u001b[0m\n\u001b[1;32m      5\u001b[0m     \u001b[0msize_features\u001b[0m\u001b[0;34m.\u001b[0m\u001b[0mappend\u001b[0m\u001b[0;34m(\u001b[0m\u001b[0msum\u001b[0m\u001b[0;34m(\u001b[0m\u001b[0mfiles_sizes\u001b[0m\u001b[0;34m)\u001b[0m\u001b[0;34m/\u001b[0m\u001b[0mlen\u001b[0m\u001b[0;34m(\u001b[0m\u001b[0mfiles_sizes\u001b[0m\u001b[0;34m)\u001b[0m\u001b[0;34m,\u001b[0m \u001b[0mall_files_sizes\u001b[0m\u001b[0;34m)\u001b[0m\u001b[0;34m\u001b[0m\u001b[0;34m\u001b[0m\u001b[0m\n",
      "\u001b[0;31mTypeError\u001b[0m: append() takes exactly one argument (2 given)"
     ]
    }
   ],
   "source": [
    "task_count_map = get_tasks_count_map('./dc-workflow-0.35.json')\n",
    "\n",
    "for filename in os.listdir('./montage-0_35/'):\n",
    "    print(file)\n",
    "    with open('./montage-0_35/' + filename) as single_workflow:\n",
    "        task_id = filename[:-5]\n",
    "        data = json.load(single_workflow)\n",
    "        task_name = data['processes'][0]['name']\n",
    "        process = data['processes'][0]\n",
    "        config = process['config']\n",
    "        ins = [ data['signals'][i] for i in process['ins'] ]\n",
    "        outs = [ data['signals'][i] for i in process['outs'] ]\n",
    "        core_features = get_all_features(task_name, ins, outs, task_count_map)\n",
    "        print(core_features)"
   ]
  },
  {
   "cell_type": "code",
   "execution_count": null,
   "metadata": {},
   "outputs": [],
   "source": []
  }
 ],
 "metadata": {
  "kernelspec": {
   "display_name": "Python 3",
   "language": "python",
   "name": "python3"
  },
  "language_info": {
   "codemirror_mode": {
    "name": "ipython",
    "version": 3
   },
   "file_extension": ".py",
   "mimetype": "text/x-python",
   "name": "python",
   "nbconvert_exporter": "python",
   "pygments_lexer": "ipython3",
   "version": "3.8.5"
  }
 },
 "nbformat": 4,
 "nbformat_minor": 4
}
