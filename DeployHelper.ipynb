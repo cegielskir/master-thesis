{
 "cells": [
  {
   "cell_type": "code",
   "execution_count": 1,
   "metadata": {},
   "outputs": [],
   "source": [
    "import yaml\n",
    "import re"
   ]
  },
  {
   "cell_type": "code",
   "execution_count": 2,
   "metadata": {},
   "outputs": [],
   "source": [
    "def change_serverless_config_file_with_memory(memoryList):\n",
    "    with open(\"./../hyperflow-awslambda-executor/serverless.yml\") as f:\n",
    "            serverless_config = yaml.load(f)\n",
    "    serverless_config['functions'] = {}\n",
    "    function_executors = serverless_config['functions']\n",
    "    for memory in memoryList:\n",
    "        executor_name = 'aws-executor-' + str(memory)\n",
    "        function_spec = {}\n",
    "        function_spec['handler'] = 'handler.executor'\n",
    "        function_spec['description'] = 'AWS executor ' + str(memory) + 'MB memory size'\n",
    "        function_spec['memorySize'] = memory\n",
    "        events_to_add = []\n",
    "        http_event = {}\n",
    "        http_event_elements = {}\n",
    "        http_event_elements['path'] = executor_name\n",
    "        http_event_elements['method'] = 'post'\n",
    "        http_event['http'] = http_event_elements\n",
    "        events_to_add.append(http_event)\n",
    "        function_spec['events'] = events_to_add\n",
    "        \n",
    "        function_executors[executor_name] = function_spec\n",
    "\n",
    "\n",
    "    with open(\"./../hyperflow-awslambda-executor/serverless.yml\", \"w\") as f:\n",
    "            yaml.dump(serverless_config, f)"
   ]
  },
  {
   "cell_type": "code",
   "execution_count": 3,
   "metadata": {},
   "outputs": [
    {
     "name": "stderr",
     "output_type": "stream",
     "text": [
      "<ipython-input-2-74fd9cef21a2>:3: YAMLLoadWarning: calling yaml.load() without Loader=... is deprecated, as the default Loader is unsafe. Please read https://msg.pyyaml.org/load for full details.\n",
      "  serverless_config = yaml.load(f)\n"
     ]
    }
   ],
   "source": [
    "\n",
    "lambda_possible_ram = list(range(128, 3072 ,64))\n",
    "\n",
    "change_serverless_config_file_with_memory(lambda_possible_ram)\n",
    "\n",
    "#! cd ./../hyperflow-awslambda-executor && sls deploy\n"
   ]
  },
  {
   "cell_type": "code",
   "execution_count": 5,
   "metadata": {},
   "outputs": [],
   "source": [
    "%%capture cap\n",
    "! cd ./../hyperflow-awslambda-executor && sls deploy"
   ]
  },
  {
   "cell_type": "code",
   "execution_count": 6,
   "metadata": {},
   "outputs": [],
   "source": [
    "lambda_core_url_matcher = re.search('POST - (.+?)aws-executor', cap.stdout)\n",
    "lambda_core_url = lambda_core_url_matcher.group(1)\n",
    "js_config_string = '\\n\\nexports.resources = {\\n'\n",
    "for memory in lambda_possible_ram:\n",
    "    js_config_string+= '  \"' + str(memory) + '\": \"' + lambda_core_url + 'aws-executor-' + str(memory) +'\",\\n'\n",
    "js_config_string += '};\\n'\n",
    "\n",
    "# with open(\"./awsLambdaCommand.config.js\", \"a\") as myfile:\n",
    "#     myfile.write(js_config_string)"
   ]
  },
  {
   "cell_type": "code",
   "execution_count": 7,
   "metadata": {},
   "outputs": [
    {
     "data": {
      "text/plain": [
       "'Serverless: \\x1b[33mPackaging service...\\x1b[39m\\r\\nServerless: \\x1b[33mExcluding development dependencies...\\x1b[39m\\r\\nServerless: \\x1b[33mWARNING: Function aws-executor-1024 has timeout of 900 seconds, however, it\\'s attached to API Gateway so it\\'s automatically limited to 30 seconds.\\x1b[39m\\r\\nServerless: \\x1b[33mWARNING: Function aws-executor-1088 has timeout of 900 seconds, however, it\\'s attached to API Gateway so it\\'s automatically limited to 30 seconds.\\x1b[39m\\r\\nServerless: \\x1b[33mWARNING: Function aws-executor-1152 has timeout of 900 seconds, however, it\\'s attached to API Gateway so it\\'s automatically limited to 30 seconds.\\x1b[39m\\r\\nServerless: \\x1b[33mWARNING: Function aws-executor-1216 has timeout of 900 seconds, however, it\\'s attached to API Gateway so it\\'s automatically limited to 30 seconds.\\x1b[39m\\r\\nServerless: \\x1b[33mWARNING: Function aws-executor-128 has timeout of 900 seconds, however, it\\'s attached to API Gateway so it\\'s automatically limited to 30 seconds.\\x1b[39m\\r\\nServerless: \\x1b[33mWARNING: Function aws-executor-1280 has timeout of 900 seconds, however, it\\'s attached to API Gateway so it\\'s automatically limited to 30 seconds.\\x1b[39m\\r\\nServerless: \\x1b[33mWARNING: Function aws-executor-1344 has timeout of 900 seconds, however, it\\'s attached to API Gateway so it\\'s automatically limited to 30 seconds.\\x1b[39m\\r\\nServerless: \\x1b[33mWARNING: Function aws-executor-1408 has timeout of 900 seconds, however, it\\'s attached to API Gateway so it\\'s automatically limited to 30 seconds.\\x1b[39m\\r\\nServerless: \\x1b[33mWARNING: Function aws-executor-1472 has timeout of 900 seconds, however, it\\'s attached to API Gateway so it\\'s automatically limited to 30 seconds.\\x1b[39m\\r\\nServerless: \\x1b[33mWARNING: Function aws-executor-1536 has timeout of 900 seconds, however, it\\'s attached to API Gateway so it\\'s automatically limited to 30 seconds.\\x1b[39m\\r\\nServerless: \\x1b[33mWARNING: Function aws-executor-1600 has timeout of 900 seconds, however, it\\'s attached to API Gateway so it\\'s automatically limited to 30 seconds.\\x1b[39m\\r\\nServerless: \\x1b[33mWARNING: Function aws-executor-1664 has timeout of 900 seconds, however, it\\'s attached to API Gateway so it\\'s automatically limited to 30 seconds.\\x1b[39m\\r\\nServerless: \\x1b[33mWARNING: Function aws-executor-1728 has timeout of 900 seconds, however, it\\'s attached to API Gateway so it\\'s automatically limited to 30 seconds.\\x1b[39m\\r\\nServerless: \\x1b[33mWARNING: Function aws-executor-1792 has timeout of 900 seconds, however, it\\'s attached to API Gateway so it\\'s automatically limited to 30 seconds.\\x1b[39m\\r\\nServerless: \\x1b[33mWARNING: Function aws-executor-1856 has timeout of 900 seconds, however, it\\'s attached to API Gateway so it\\'s automatically limited to 30 seconds.\\x1b[39m\\r\\nServerless: \\x1b[33mWARNING: Function aws-executor-192 has timeout of 900 seconds, however, it\\'s attached to API Gateway so it\\'s automatically limited to 30 seconds.\\x1b[39m\\r\\nServerless: \\x1b[33mWARNING: Function aws-executor-1920 has timeout of 900 seconds, however, it\\'s attached to API Gateway so it\\'s automatically limited to 30 seconds.\\x1b[39m\\r\\nServerless: \\x1b[33mWARNING: Function aws-executor-1984 has timeout of 900 seconds, however, it\\'s attached to API Gateway so it\\'s automatically limited to 30 seconds.\\x1b[39m\\r\\nServerless: \\x1b[33mWARNING: Function aws-executor-2048 has timeout of 900 seconds, however, it\\'s attached to API Gateway so it\\'s automatically limited to 30 seconds.\\x1b[39m\\r\\nServerless: \\x1b[33mWARNING: Function aws-executor-2112 has timeout of 900 seconds, however, it\\'s attached to API Gateway so it\\'s automatically limited to 30 seconds.\\x1b[39m\\r\\nServerless: \\x1b[33mWARNING: Function aws-executor-2176 has timeout of 900 seconds, however, it\\'s attached to API Gateway so it\\'s automatically limited to 30 seconds.\\x1b[39m\\r\\nServerless: \\x1b[33mWARNING: Function aws-executor-2240 has timeout of 900 seconds, however, it\\'s attached to API Gateway so it\\'s automatically limited to 30 seconds.\\x1b[39m\\r\\nServerless: \\x1b[33mWARNING: Function aws-executor-2304 has timeout of 900 seconds, however, it\\'s attached to API Gateway so it\\'s automatically limited to 30 seconds.\\x1b[39m\\r\\nServerless: \\x1b[33mWARNING: Function aws-executor-2368 has timeout of 900 seconds, however, it\\'s attached to API Gateway so it\\'s automatically limited to 30 seconds.\\x1b[39m\\r\\nServerless: \\x1b[33mWARNING: Function aws-executor-2432 has timeout of 900 seconds, however, it\\'s attached to API Gateway so it\\'s automatically limited to 30 seconds.\\x1b[39m\\r\\nServerless: \\x1b[33mWARNING: Function aws-executor-2496 has timeout of 900 seconds, however, it\\'s attached to API Gateway so it\\'s automatically limited to 30 seconds.\\x1b[39m\\r\\nServerless: \\x1b[33mWARNING: Function aws-executor-256 has timeout of 900 seconds, however, it\\'s attached to API Gateway so it\\'s automatically limited to 30 seconds.\\x1b[39m\\r\\nServerless: \\x1b[33mWARNING: Function aws-executor-2560 has timeout of 900 seconds, however, it\\'s attached to API Gateway so it\\'s automatically limited to 30 seconds.\\x1b[39m\\r\\nServerless: \\x1b[33mWARNING: Function aws-executor-2624 has timeout of 900 seconds, however, it\\'s attached to API Gateway so it\\'s automatically limited to 30 seconds.\\x1b[39m\\r\\nServerless: \\x1b[33mWARNING: Function aws-executor-2688 has timeout of 900 seconds, however, it\\'s attached to API Gateway so it\\'s automatically limited to 30 seconds.\\x1b[39m\\r\\nServerless: \\x1b[33mWARNING: Function aws-executor-2752 has timeout of 900 seconds, however, it\\'s attached to API Gateway so it\\'s automatically limited to 30 seconds.\\x1b[39m\\r\\nServerless: \\x1b[33mWARNING: Function aws-executor-2816 has timeout of 900 seconds, however, it\\'s attached to API Gateway so it\\'s automatically limited to 30 seconds.\\x1b[39m\\r\\nServerless: \\x1b[33mWARNING: Function aws-executor-2880 has timeout of 900 seconds, however, it\\'s attached to API Gateway so it\\'s automatically limited to 30 seconds.\\x1b[39m\\r\\nServerless: \\x1b[33mWARNING: Function aws-executor-2944 has timeout of 900 seconds, however, it\\'s attached to API Gateway so it\\'s automatically limited to 30 seconds.\\x1b[39m\\r\\nServerless: \\x1b[33mWARNING: Function aws-executor-3008 has timeout of 900 seconds, however, it\\'s attached to API Gateway so it\\'s automatically limited to 30 seconds.\\x1b[39m\\r\\nServerless: \\x1b[33mWARNING: Function aws-executor-320 has timeout of 900 seconds, however, it\\'s attached to API Gateway so it\\'s automatically limited to 30 seconds.\\x1b[39m\\r\\nServerless: \\x1b[33mWARNING: Function aws-executor-384 has timeout of 900 seconds, however, it\\'s attached to API Gateway so it\\'s automatically limited to 30 seconds.\\x1b[39m\\r\\nServerless: \\x1b[33mWARNING: Function aws-executor-448 has timeout of 900 seconds, however, it\\'s attached to API Gateway so it\\'s automatically limited to 30 seconds.\\x1b[39m\\r\\nServerless: \\x1b[33mWARNING: Function aws-executor-512 has timeout of 900 seconds, however, it\\'s attached to API Gateway so it\\'s automatically limited to 30 seconds.\\x1b[39m\\r\\nServerless: \\x1b[33mWARNING: Function aws-executor-576 has timeout of 900 seconds, however, it\\'s attached to API Gateway so it\\'s automatically limited to 30 seconds.\\x1b[39m\\r\\nServerless: \\x1b[33mWARNING: Function aws-executor-640 has timeout of 900 seconds, however, it\\'s attached to API Gateway so it\\'s automatically limited to 30 seconds.\\x1b[39m\\r\\nServerless: \\x1b[33mWARNING: Function aws-executor-704 has timeout of 900 seconds, however, it\\'s attached to API Gateway so it\\'s automatically limited to 30 seconds.\\x1b[39m\\r\\nServerless: \\x1b[33mWARNING: Function aws-executor-768 has timeout of 900 seconds, however, it\\'s attached to API Gateway so it\\'s automatically limited to 30 seconds.\\x1b[39m\\r\\nServerless: \\x1b[33mWARNING: Function aws-executor-832 has timeout of 900 seconds, however, it\\'s attached to API Gateway so it\\'s automatically limited to 30 seconds.\\x1b[39m\\r\\nServerless: \\x1b[33mWARNING: Function aws-executor-896 has timeout of 900 seconds, however, it\\'s attached to API Gateway so it\\'s automatically limited to 30 seconds.\\x1b[39m\\r\\nServerless: \\x1b[33mWARNING: Function aws-executor-960 has timeout of 900 seconds, however, it\\'s attached to API Gateway so it\\'s automatically limited to 30 seconds.\\x1b[39m\\r\\nServerless: \\x1b[33mUploading CloudFormation file to S3...\\x1b[39m\\r\\nServerless: \\x1b[33mUploading artifacts...\\x1b[39m\\r\\nServerless: \\x1b[33mUploading service hyperflow-awslambda-executor.zip file to S3 (11.21 MB)...\\x1b[39m\\r\\nServerless: \\x1b[33mValidating template...\\x1b[39m\\r\\nServerless: \\x1b[33mUpdating Stack...\\x1b[39m\\r\\nServerless: \\x1b[33mChecking Stack update progress...\\x1b[39m\\r\\n\\x1b[33m.\\x1b[39m\\x1b[33m.\\x1b[39m\\x1b[33m.\\x1b[39m\\x1b[33m.\\x1b[39m\\x1b[33m.\\x1b[39m\\x1b[33m.\\x1b[39m\\x1b[33m.\\x1b[39m\\x1b[33m.\\x1b[39m\\x1b[33m.\\x1b[39m\\x1b[33m.\\x1b[39m\\x1b[33m.\\x1b[39m\\x1b[33m.\\x1b[39m\\x1b[33m.\\x1b[39m\\x1b[33m.\\x1b[39m\\x1b[33m.\\x1b[39m\\x1b[33m.\\x1b[39m\\x1b[33m.\\x1b[39m\\x1b[33m.\\x1b[39m\\x1b[33m.\\x1b[39m\\x1b[33m.\\x1b[39m\\x1b[33m.\\x1b[39m\\x1b[33m.\\x1b[39m\\x1b[33m.\\x1b[39m\\x1b[33m.\\x1b[39m\\x1b[33m.\\x1b[39m\\x1b[33m.\\x1b[39m\\x1b[33m.\\x1b[39m\\x1b[33m.\\x1b[39m\\x1b[33m.\\x1b[39m\\x1b[33m.\\x1b[39m\\x1b[33m.\\x1b[39m\\x1b[33m.\\x1b[39m\\x1b[33m.\\x1b[39m\\x1b[33m.\\x1b[39m\\x1b[33m.\\x1b[39m\\x1b[33m.\\x1b[39m\\x1b[33m.\\x1b[39m\\x1b[33m.\\x1b[39m\\x1b[33m.\\x1b[39m\\x1b[33m.\\x1b[39m\\x1b[33m.\\x1b[39m\\x1b[33m.\\x1b[39m\\x1b[33m.\\x1b[39m\\x1b[33m.\\x1b[39m\\x1b[33m.\\x1b[39m\\x1b[33m.\\x1b[39m\\x1b[33m.\\x1b[39m\\x1b[33m.\\x1b[39m\\x1b[33m.\\x1b[39m\\x1b[33m.\\x1b[39m\\x1b[33m.\\x1b[39m\\x1b[33m.\\x1b[39m\\x1b[33m.\\x1b[39m\\x1b[33m.\\x1b[39m\\x1b[33m.\\x1b[39m\\x1b[33m.\\x1b[39m\\x1b[33m.\\x1b[39m\\x1b[33m.\\x1b[39m\\x1b[33m.\\x1b[39m\\x1b[33m.\\x1b[39m\\x1b[33m.\\x1b[39m\\x1b[33m.\\x1b[39m\\x1b[33m.\\x1b[39m\\x1b[33m.\\x1b[39m\\x1b[33m.\\x1b[39m\\x1b[33m.\\x1b[39m\\x1b[33m.\\x1b[39m\\x1b[33m.\\x1b[39m\\x1b[33m.\\x1b[39m\\x1b[33m.\\x1b[39m\\x1b[33m.\\x1b[39m\\x1b[33m.\\x1b[39m\\x1b[33m.\\x1b[39m\\x1b[33m.\\x1b[39m\\x1b[33m.\\x1b[39m\\x1b[33m.\\x1b[39m\\x1b[33m.\\x1b[39m\\x1b[33m.\\x1b[39m\\x1b[33m.\\x1b[39m\\x1b[33m.\\x1b[39m\\x1b[33m.\\x1b[39m\\x1b[33m.\\x1b[39m\\x1b[33m.\\x1b[39m\\x1b[33m.\\x1b[39m\\x1b[33m.\\x1b[39m\\x1b[33m.\\x1b[39m\\x1b[33m.\\x1b[39m\\x1b[33m.\\x1b[39m\\x1b[33m.\\x1b[39m\\x1b[33m.\\x1b[39m\\x1b[33m.\\x1b[39m\\x1b[33m.\\x1b[39m\\x1b[33m.\\x1b[39m\\x1b[33m.\\x1b[39m\\x1b[33m.\\x1b[39m\\x1b[33m.\\x1b[39m\\x1b[33m.\\x1b[39m\\x1b[33m.\\x1b[39m\\x1b[33m.\\x1b[39m\\x1b[33m.\\x1b[39m\\x1b[33m.\\x1b[39m\\x1b[33m.\\x1b[39m\\x1b[33m.\\x1b[39m\\x1b[33m.\\x1b[39m\\x1b[33m.\\x1b[39m\\x1b[33m.\\x1b[39m\\x1b[33m.\\x1b[39m\\x1b[33m.\\x1b[39m\\x1b[33m.\\x1b[39m\\x1b[33m.\\x1b[39m\\x1b[33m.\\x1b[39m\\x1b[33m.\\x1b[39m\\x1b[33m.\\x1b[39m\\x1b[33m.\\x1b[39m\\x1b[33m.\\x1b[39m\\x1b[33m.\\x1b[39m\\x1b[33m.\\x1b[39m\\x1b[33m.\\x1b[39m\\x1b[33m.\\x1b[39m\\x1b[33m.\\x1b[39m\\x1b[33m.\\x1b[39m\\x1b[33m.\\x1b[39m\\x1b[33m.\\x1b[39m\\x1b[33m.\\x1b[39m\\x1b[33m.\\x1b[39m\\x1b[33m.\\x1b[39m\\x1b[33m.\\x1b[39m\\x1b[33m.\\x1b[39m\\x1b[33m.\\x1b[39m\\x1b[33m.\\x1b[39m\\x1b[33m.\\x1b[39m\\x1b[33m.\\x1b[39m\\x1b[33m.\\x1b[39m\\x1b[33m.\\x1b[39m\\x1b[33m.\\x1b[39m\\x1b[33m.\\x1b[39m\\x1b[33m.\\x1b[39m\\x1b[33m.\\x1b[39m\\x1b[33m.\\x1b[39m\\x1b[33m.\\x1b[39m\\x1b[33m.\\x1b[39m\\x1b[33m.\\x1b[39m\\x1b[33m.\\x1b[39m\\x1b[33m.\\x1b[39m\\x1b[33m.\\x1b[39m\\x1b[33m.\\x1b[39m\\x1b[33m.\\x1b[39m\\x1b[33m.\\x1b[39m\\x1b[33m.\\x1b[39m\\x1b[33m.\\x1b[39m\\x1b[33m.\\x1b[39m\\x1b[33m.\\x1b[39m\\x1b[33m.\\x1b[39m\\x1b[33m.\\x1b[39m\\x1b[33m.\\x1b[39m\\x1b[33m.\\x1b[39m\\x1b[33m.\\x1b[39m\\x1b[33m.\\x1b[39m\\x1b[33m.\\x1b[39m\\x1b[33m.\\x1b[39m\\x1b[33m.\\x1b[39m\\x1b[33m.\\x1b[39m\\x1b[33m.\\x1b[39m\\x1b[33m.\\x1b[39m\\x1b[33m.\\x1b[39m\\x1b[33m.\\x1b[39m\\x1b[33m.\\x1b[39m\\x1b[33m.\\x1b[39m\\x1b[33m.\\x1b[39m\\x1b[33m.\\x1b[39m\\x1b[33m.\\x1b[39m\\x1b[33m.\\x1b[39m\\x1b[33m.\\x1b[39m\\x1b[33m.\\x1b[39m\\x1b[33m.\\x1b[39m\\x1b[33m.\\x1b[39m\\x1b[33m.\\x1b[39m\\x1b[33m.\\x1b[39m\\x1b[33m.\\x1b[39m\\x1b[33m.\\x1b[39m\\x1b[33m.\\x1b[39m\\x1b[33m.\\x1b[39m\\x1b[33m.\\x1b[39m\\x1b[33m.\\x1b[39m\\x1b[33m.\\x1b[39m\\x1b[33m.\\x1b[39m\\x1b[33m.\\x1b[39m\\x1b[33m.\\x1b[39m\\x1b[33m.\\x1b[39m\\x1b[33m.\\x1b[39m\\x1b[33m.\\x1b[39m\\x1b[33m.\\x1b[39m\\x1b[33m.\\x1b[39m\\x1b[33m.\\x1b[39m\\x1b[33m.\\x1b[39m\\x1b[33m.\\x1b[39m\\x1b[33m.\\x1b[39m\\x1b[33m.\\x1b[39m\\x1b[33m.\\x1b[39m\\x1b[33m.\\x1b[39m\\x1b[33m.\\x1b[39m\\x1b[33m.\\x1b[39m\\x1b[33m.\\x1b[39m\\x1b[33m.\\x1b[39m\\x1b[33m.\\x1b[39m\\x1b[33m.\\x1b[39m\\x1b[33m.\\x1b[39m\\x1b[33m.\\x1b[39m\\x1b[33m.\\x1b[39m\\x1b[33m.\\x1b[39m\\x1b[33m.\\x1b[39m\\x1b[33m.\\x1b[39m\\x1b[33m.\\x1b[39m\\x1b[33m.\\x1b[39m\\x1b[33m.\\x1b[39m\\x1b[33m.\\x1b[39m\\x1b[33m.\\x1b[39m\\x1b[33m.\\x1b[39m\\x1b[33m.\\x1b[39m\\x1b[33m.\\x1b[39m\\x1b[33m.\\x1b[39m\\x1b[33m.\\x1b[39m\\x1b[33m.\\x1b[39m\\x1b[33m.\\x1b[39m\\x1b[33m.\\x1b[39m\\x1b[33m.\\x1b[39m\\x1b[33m.\\x1b[39m\\x1b[33m.\\x1b[39m\\x1b[33m.\\x1b[39m\\x1b[33m.\\x1b[39m\\x1b[33m.\\x1b[39m\\x1b[33m.\\x1b[39m\\x1b[33m.\\x1b[39m\\x1b[33m.\\x1b[39m\\x1b[33m.\\x1b[39m\\x1b[33m.\\x1b[39m\\x1b[33m.\\x1b[39m\\x1b[33m.\\x1b[39m\\x1b[33m.\\x1b[39m\\x1b[33m.\\x1b[39m\\x1b[33m.\\x1b[39m\\x1b[33m.\\x1b[39m\\x1b[33m.\\x1b[39m\\x1b[33m.\\x1b[39m\\x1b[33m.\\x1b[39m\\x1b[33m.\\x1b[39m\\x1b[33m.\\x1b[39m\\x1b[33m.\\x1b[39m\\x1b[33m.\\x1b[39m\\x1b[33m.\\x1b[39m\\x1b[33m.\\x1b[39m\\x1b[33m.\\x1b[39m\\x1b[33m.\\x1b[39m\\x1b[33m.\\x1b[39m\\x1b[33m.\\x1b[39m\\x1b[33m.\\x1b[39m\\x1b[33m.\\x1b[39m\\x1b[33m.\\x1b[39m\\x1b[33m.\\x1b[39m\\x1b[33m.\\x1b[39m\\x1b[33m.\\x1b[39m\\x1b[33m.\\x1b[39m\\x1b[33m.\\x1b[39m\\x1b[33m.\\x1b[39m\\x1b[33m.\\x1b[39m\\x1b[33m.\\x1b[39m\\x1b[33m.\\x1b[39m\\x1b[33m.\\x1b[39m\\x1b[33m.\\x1b[39m\\x1b[33m.\\x1b[39m\\x1b[33m.\\x1b[39m\\x1b[33m.\\x1b[39m\\x1b[33m.\\x1b[39m\\x1b[33m.\\x1b[39m\\x1b[33m.\\x1b[39m\\x1b[33m.\\x1b[39m\\x1b[33m.\\x1b[39m\\x1b[33m.\\x1b[39m\\x1b[33m.\\x1b[39m\\x1b[33m.\\x1b[39m\\x1b[33m.\\x1b[39m\\x1b[33m.\\x1b[39m\\x1b[33m.\\x1b[39m\\x1b[33m.\\x1b[39m\\x1b[33m.\\x1b[39m\\x1b[33m.\\x1b[39m\\x1b[33m.\\x1b[39m\\x1b[33m.\\x1b[39m\\x1b[33m.\\x1b[39m\\x1b[33m.\\x1b[39m\\x1b[33m.\\x1b[39m\\x1b[33m.\\x1b[39m\\x1b[33m.\\x1b[39m\\x1b[33m.\\x1b[39m\\x1b[33m.\\x1b[39m\\x1b[33m.\\x1b[39m\\x1b[33m.\\x1b[39m\\x1b[33m.\\x1b[39m\\x1b[33m.\\x1b[39m\\x1b[33m.\\x1b[39m\\x1b[33m.\\x1b[39m\\x1b[33m.\\x1b[39m\\x1b[33m.\\x1b[39m\\x1b[33m.\\x1b[39m\\x1b[33m.\\x1b[39m\\x1b[33m.\\x1b[39m\\x1b[33m.\\x1b[39m\\x1b[33m.\\x1b[39m\\x1b[33m.\\x1b[39m\\x1b[33m.\\x1b[39m\\x1b[33m.\\x1b[39m\\x1b[33m.\\x1b[39m\\x1b[33m.\\x1b[39m\\x1b[33m.\\x1b[39m\\x1b[33m.\\x1b[39m\\x1b[33m.\\x1b[39m\\x1b[33m.\\x1b[39m\\x1b[33m.\\x1b[39m\\x1b[33m.\\x1b[39m\\x1b[33m.\\x1b[39m\\x1b[33m.\\x1b[39m\\x1b[33m.\\x1b[39m\\x1b[33m.\\x1b[39m\\x1b[33m.\\x1b[39m\\x1b[33m.\\x1b[39m\\x1b[33m.\\x1b[39m\\x1b[33m.\\x1b[39m\\x1b[33m.\\x1b[39m\\x1b[33m.\\x1b[39m\\x1b[33m.\\x1b[39m\\x1b[33m.\\x1b[39m\\x1b[33m.\\x1b[39m\\x1b[33m.\\x1b[39m\\x1b[33m.\\x1b[39m\\x1b[33m.\\x1b[39m\\x1b[33m.\\x1b[39m\\x1b[33m.\\x1b[39m\\x1b[33m.\\x1b[39m\\x1b[33m.\\x1b[39m\\x1b[33m.\\x1b[39m\\x1b[33m.\\x1b[39m\\x1b[33m.\\x1b[39m\\x1b[33m.\\x1b[39m\\x1b[33m.\\x1b[39m\\x1b[33m.\\x1b[39m\\x1b[33m.\\x1b[39m\\x1b[33m.\\x1b[39m\\x1b[33m.\\x1b[39m\\x1b[33m.\\x1b[39m\\x1b[33m.\\x1b[39m\\x1b[33m.\\x1b[39m\\x1b[33m.\\x1b[39m\\x1b[33m.\\x1b[39m\\x1b[33m.\\x1b[39m\\x1b[33m.\\x1b[39m\\x1b[33m.\\x1b[39m\\x1b[33m.\\x1b[39m\\x1b[33m.\\x1b[39m\\x1b[33m.\\x1b[39m\\x1b[33m.\\x1b[39m\\x1b[33m.\\x1b[39m\\x1b[33m.\\x1b[39m\\x1b[33m.\\x1b[39m\\x1b[33m.\\x1b[39m\\x1b[33m.\\x1b[39m\\x1b[33m.\\x1b[39m\\x1b[33m.\\x1b[39m\\x1b[33m.\\x1b[39m\\x1b[33m.\\x1b[39m\\x1b[33m.\\x1b[39m\\x1b[33m.\\x1b[39m\\x1b[33m.\\x1b[39m\\x1b[33m.\\x1b[39m\\x1b[33m.\\x1b[39m\\x1b[33m.\\x1b[39m\\x1b[33m.\\x1b[39m\\x1b[33m.\\x1b[39m\\x1b[33m.\\x1b[39m\\x1b[33m.\\x1b[39m\\x1b[33m.\\x1b[39m\\x1b[33m.\\x1b[39m\\x1b[33m.\\x1b[39m\\x1b[33m.\\x1b[39m\\x1b[33m.\\x1b[39m\\x1b[33m.\\x1b[39m\\x1b[33m.\\x1b[39m\\x1b[33m.\\x1b[39m\\x1b[33m.\\x1b[39m\\x1b[33m.\\x1b[39m\\x1b[33m.\\x1b[39m\\x1b[33m.\\x1b[39m\\x1b[33m.\\x1b[39m\\x1b[33m.\\x1b[39m\\x1b[33m.\\x1b[39m\\x1b[33m.\\x1b[39m\\x1b[33m.\\x1b[39m\\x1b[33m.\\x1b[39m\\x1b[33m.\\x1b[39m\\x1b[33m.\\x1b[39m\\x1b[33m.\\x1b[39m\\x1b[33m.\\x1b[39m\\x1b[33m.\\x1b[39m\\x1b[33m.\\x1b[39m\\x1b[33m.\\x1b[39m\\x1b[33m.\\x1b[39m\\x1b[33m.\\x1b[39m\\x1b[33m.\\x1b[39m\\x1b[33m.\\x1b[39m\\x1b[33m.\\x1b[39m\\x1b[33m.\\x1b[39m\\x1b[33m.\\x1b[39m\\x1b[33m.\\x1b[39m\\x1b[33m.\\x1b[39m\\x1b[33m.\\x1b[39m\\x1b[33m.\\x1b[39m\\x1b[33m.\\x1b[39m\\x1b[33m.\\x1b[39m\\x1b[33m.\\x1b[39m\\x1b[33m.\\x1b[39m\\x1b[33m.\\x1b[39m\\x1b[33m.\\x1b[39m\\x1b[33m.\\x1b[39m\\x1b[33m.\\x1b[39m\\x1b[33m.\\x1b[39m\\x1b[33m.\\x1b[39m\\x1b[33m.\\x1b[39m\\x1b[33m.\\x1b[39m\\x1b[33m.\\x1b[39m\\x1b[33m.\\x1b[39m\\x1b[33m.\\x1b[39m\\x1b[33m.\\x1b[39m\\x1b[33m.\\x1b[39m\\x1b[33m.\\x1b[39m\\x1b[33m.\\x1b[39m\\x1b[33m.\\x1b[39m\\x1b[33m.\\x1b[39m\\x1b[33m.\\x1b[39m\\x1b[33m.\\x1b[39m\\x1b[33m.\\x1b[39m\\x1b[33m.\\x1b[39m\\x1b[33m.\\x1b[39m\\x1b[33m.\\x1b[39m\\x1b[33m.\\x1b[39m\\x1b[33m.\\x1b[39m\\x1b[33m.\\x1b[39m\\x1b[33m.\\x1b[39m\\x1b[33m.\\x1b[39m\\x1b[33m.\\x1b[39m\\x1b[33m.\\x1b[39m\\x1b[33m.\\x1b[39m\\x1b[33m.\\x1b[39m\\x1b[33m.\\x1b[39m\\x1b[33m.\\x1b[39m\\x1b[33m.\\x1b[39m\\x1b[33m.\\x1b[39m\\x1b[33m.\\x1b[39m\\x1b[33m.\\x1b[39m\\x1b[33m.\\x1b[39m\\x1b[33m.\\x1b[39m\\x1b[33m.\\x1b[39m\\x1b[33m.\\x1b[39m\\x1b[33m.\\x1b[39m\\x1b[33m.\\x1b[39m\\x1b[33m.\\x1b[39m\\x1b[33m.\\x1b[39m\\x1b[33m.\\x1b[39m\\x1b[33m.\\x1b[39m\\x1b[33m.\\x1b[39m\\x1b[33m.\\x1b[39m\\x1b[33m.\\x1b[39m\\x1b[33m.\\x1b[39m\\x1b[33m.\\x1b[39m\\x1b[33m.\\x1b[39m\\x1b[33m.\\x1b[39m\\x1b[33m.\\x1b[39m\\x1b[33m.\\x1b[39m\\x1b[33m.\\x1b[39m\\x1b[33m.\\x1b[39m\\x1b[33m.\\x1b[39m\\x1b[33m.\\x1b[39m\\x1b[33m.\\x1b[39m\\x1b[33m.\\x1b[39m\\x1b[33m.\\x1b[39m\\x1b[33m.\\x1b[39m\\x1b[33m.\\x1b[39m\\x1b[33m.\\x1b[39m\\x1b[33m.\\x1b[39m\\x1b[33m.\\x1b[39m\\x1b[33m.\\x1b[39m\\x1b[33m.\\x1b[39m\\x1b[33m.\\x1b[39m\\x1b[33m.\\x1b[39m\\x1b[33m.\\x1b[39m\\x1b[33m.\\x1b[39m\\x1b[33m.\\x1b[39m\\x1b[33m.\\x1b[39m\\x1b[33m.\\x1b[39m\\x1b[33m.\\x1b[39m\\x1b[33m.\\x1b[39m\\x1b[33m.\\x1b[39m\\x1b[33m.\\x1b[39m\\x1b[33m.\\x1b[39m\\x1b[33m.\\x1b[39m\\x1b[33m.\\x1b[39m\\x1b[33m.\\x1b[39m\\x1b[33m.\\x1b[39m\\x1b[33m.\\x1b[39m\\x1b[33m.\\x1b[39m\\x1b[33m.\\x1b[39m\\x1b[33m.\\x1b[39m\\x1b[33m.\\x1b[39m\\x1b[33m.\\x1b[39m\\x1b[33m.\\x1b[39m\\x1b[33m.\\x1b[39m\\x1b[33m.\\x1b[39m\\x1b[33m.\\x1b[39m\\x1b[33m.\\x1b[39m\\x1b[33m.\\x1b[39m\\x1b[33m.\\x1b[39m\\x1b[33m.\\x1b[39m\\x1b[33m.\\x1b[39m\\x1b[33m.\\x1b[39m\\x1b[33m.\\x1b[39m\\x1b[33m.\\x1b[39m\\x1b[33m.\\x1b[39m\\x1b[33m.\\x1b[39m\\x1b[33m.\\x1b[39m\\x1b[33m.\\x1b[39m\\x1b[33m.\\x1b[39m\\x1b[33m.\\x1b[39m\\x1b[33m.\\x1b[39m\\x1b[33m.\\x1b[39m\\x1b[33m.\\x1b[39m\\x1b[33m.\\x1b[39m\\x1b[33m.\\x1b[39m\\x1b[33m.\\x1b[39m\\r\\nServerless: \\x1b[33mStack update finished...\\x1b[39m\\r\\n\\x1b[33m\\x1b[4mService Information\\x1b[24m\\x1b[39m\\r\\n\\x1b[33mservice:\\x1b[39m hyperflow-awslambda-executor\\r\\n\\x1b[33mstage:\\x1b[39m dev\\r\\n\\x1b[33mregion:\\x1b[39m eu-west-1\\r\\n\\x1b[33mstack:\\x1b[39m hyperflow-awslambda-executor-dev\\r\\n\\x1b[33mresources:\\x1b[39m 281\\r\\n\\x1b[31mWARNING:\\x1b[39m\\r\\n  You have 281 resources in your service.\\r\\n  CloudFormation has a hard limit of 200 resources in a service.\\r\\n  For advice on avoiding this limit, check out this link: http://bit.ly/2IiYB38.\\r\\n\\x1b[33mapi keys:\\x1b[39m\\r\\n  None\\r\\n\\x1b[33mendpoints:\\x1b[39m\\r\\n  POST - https://ow84k9ff8j.execute-api.eu-west-1.amazonaws.com/dev/aws-executor-1024\\r\\n  POST - https://ow84k9ff8j.execute-api.eu-west-1.amazonaws.com/dev/aws-executor-1088\\r\\n  POST - https://ow84k9ff8j.execute-api.eu-west-1.amazonaws.com/dev/aws-executor-1152\\r\\n  POST - https://ow84k9ff8j.execute-api.eu-west-1.amazonaws.com/dev/aws-executor-1216\\r\\n  POST - https://ow84k9ff8j.execute-api.eu-west-1.amazonaws.com/dev/aws-executor-128\\r\\n  POST - https://ow84k9ff8j.execute-api.eu-west-1.amazonaws.com/dev/aws-executor-1280\\r\\n  POST - https://ow84k9ff8j.execute-api.eu-west-1.amazonaws.com/dev/aws-executor-1344\\r\\n  POST - https://ow84k9ff8j.execute-api.eu-west-1.amazonaws.com/dev/aws-executor-1408\\r\\n  POST - https://ow84k9ff8j.execute-api.eu-west-1.amazonaws.com/dev/aws-executor-1472\\r\\n  POST - https://ow84k9ff8j.execute-api.eu-west-1.amazonaws.com/dev/aws-executor-1536\\r\\n  POST - https://ow84k9ff8j.execute-api.eu-west-1.amazonaws.com/dev/aws-executor-1600\\r\\n  POST - https://ow84k9ff8j.execute-api.eu-west-1.amazonaws.com/dev/aws-executor-1664\\r\\n  POST - https://ow84k9ff8j.execute-api.eu-west-1.amazonaws.com/dev/aws-executor-1728\\r\\n  POST - https://ow84k9ff8j.execute-api.eu-west-1.amazonaws.com/dev/aws-executor-1792\\r\\n  POST - https://ow84k9ff8j.execute-api.eu-west-1.amazonaws.com/dev/aws-executor-1856\\r\\n  POST - https://ow84k9ff8j.execute-api.eu-west-1.amazonaws.com/dev/aws-executor-192\\r\\n  POST - https://ow84k9ff8j.execute-api.eu-west-1.amazonaws.com/dev/aws-executor-1920\\r\\n  POST - https://ow84k9ff8j.execute-api.eu-west-1.amazonaws.com/dev/aws-executor-1984\\r\\n  POST - https://ow84k9ff8j.execute-api.eu-west-1.amazonaws.com/dev/aws-executor-2048\\r\\n  POST - https://ow84k9ff8j.execute-api.eu-west-1.amazonaws.com/dev/aws-executor-2112\\r\\n  POST - https://ow84k9ff8j.execute-api.eu-west-1.amazonaws.com/dev/aws-executor-2176\\r\\n  POST - https://ow84k9ff8j.execute-api.eu-west-1.amazonaws.com/dev/aws-executor-2240\\r\\n  POST - https://ow84k9ff8j.execute-api.eu-west-1.amazonaws.com/dev/aws-executor-2304\\r\\n  POST - https://ow84k9ff8j.execute-api.eu-west-1.amazonaws.com/dev/aws-executor-2368\\r\\n  POST - https://ow84k9ff8j.execute-api.eu-west-1.amazonaws.com/dev/aws-executor-2432\\r\\n  POST - https://ow84k9ff8j.execute-api.eu-west-1.amazonaws.com/dev/aws-executor-2496\\r\\n  POST - https://ow84k9ff8j.execute-api.eu-west-1.amazonaws.com/dev/aws-executor-256\\r\\n  POST - https://ow84k9ff8j.execute-api.eu-west-1.amazonaws.com/dev/aws-executor-2560\\r\\n  POST - https://ow84k9ff8j.execute-api.eu-west-1.amazonaws.com/dev/aws-executor-2624\\r\\n  POST - https://ow84k9ff8j.execute-api.eu-west-1.amazonaws.com/dev/aws-executor-2688\\r\\n  POST - https://ow84k9ff8j.execute-api.eu-west-1.amazonaws.com/dev/aws-executor-2752\\r\\n  POST - https://ow84k9ff8j.execute-api.eu-west-1.amazonaws.com/dev/aws-executor-2816\\r\\n  POST - https://ow84k9ff8j.execute-api.eu-west-1.amazonaws.com/dev/aws-executor-2880\\r\\n  POST - https://ow84k9ff8j.execute-api.eu-west-1.amazonaws.com/dev/aws-executor-2944\\r\\n  POST - https://ow84k9ff8j.execute-api.eu-west-1.amazonaws.com/dev/aws-executor-3008\\r\\n  POST - https://ow84k9ff8j.execute-api.eu-west-1.amazonaws.com/dev/aws-executor-320\\r\\n  POST - https://ow84k9ff8j.execute-api.eu-west-1.amazonaws.com/dev/aws-executor-384\\r\\n  POST - https://ow84k9ff8j.execute-api.eu-west-1.amazonaws.com/dev/aws-executor-448\\r\\n  POST - https://ow84k9ff8j.execute-api.eu-west-1.amazonaws.com/dev/aws-executor-512\\r\\n  POST - https://ow84k9ff8j.execute-api.eu-west-1.amazonaws.com/dev/aws-executor-576\\r\\n  POST - https://ow84k9ff8j.execute-api.eu-west-1.amazonaws.com/dev/aws-executor-640\\r\\n  POST - https://ow84k9ff8j.execute-api.eu-west-1.amazonaws.com/dev/aws-executor-704\\r\\n  POST - https://ow84k9ff8j.execute-api.eu-west-1.amazonaws.com/dev/aws-executor-768\\r\\n  POST - https://ow84k9ff8j.execute-api.eu-west-1.amazonaws.com/dev/aws-executor-832\\r\\n  POST - https://ow84k9ff8j.execute-api.eu-west-1.amazonaws.com/dev/aws-executor-896\\r\\n  POST - https://ow84k9ff8j.execute-api.eu-west-1.amazonaws.com/dev/aws-executor-960\\r\\n\\x1b[33mfunctions:\\x1b[39m\\r\\n  aws-executor-1024: hyperflow-awslambda-executor-dev-aws-executor-1024\\r\\n  aws-executor-1088: hyperflow-awslambda-executor-dev-aws-executor-1088\\r\\n  aws-executor-1152: hyperflow-awslambda-executor-dev-aws-executor-1152\\r\\n  aws-executor-1216: hyperflow-awslambda-executor-dev-aws-executor-1216\\r\\n  aws-executor-128: hyperflow-awslambda-executor-dev-aws-executor-128\\r\\n  aws-executor-1280: hyperflow-awslambda-executor-dev-aws-executor-1280\\r\\n  aws-executor-1344: hyperflow-awslambda-executor-dev-aws-executor-1344\\r\\n  aws-executor-1408: hyperflow-awslambda-executor-dev-aws-executor-1408\\r\\n  aws-executor-1472: hyperflow-awslambda-executor-dev-aws-executor-1472\\r\\n  aws-executor-1536: hyperflow-awslambda-executor-dev-aws-executor-1536\\r\\n  aws-executor-1600: hyperflow-awslambda-executor-dev-aws-executor-1600\\r\\n  aws-executor-1664: hyperflow-awslambda-executor-dev-aws-executor-1664\\r\\n  aws-executor-1728: hyperflow-awslambda-executor-dev-aws-executor-1728\\r\\n  aws-executor-1792: hyperflow-awslambda-executor-dev-aws-executor-1792\\r\\n  aws-executor-1856: hyperflow-awslambda-executor-dev-aws-executor-1856\\r\\n  aws-executor-192: hyperflow-awslambda-executor-dev-aws-executor-192\\r\\n  aws-executor-1920: hyperflow-awslambda-executor-dev-aws-executor-1920\\r\\n  aws-executor-1984: hyperflow-awslambda-executor-dev-aws-executor-1984\\r\\n  aws-executor-2048: hyperflow-awslambda-executor-dev-aws-executor-2048\\r\\n  aws-executor-2112: hyperflow-awslambda-executor-dev-aws-executor-2112\\r\\n  aws-executor-2176: hyperflow-awslambda-executor-dev-aws-executor-2176\\r\\n  aws-executor-2240: hyperflow-awslambda-executor-dev-aws-executor-2240\\r\\n  aws-executor-2304: hyperflow-awslambda-executor-dev-aws-executor-2304\\r\\n  aws-executor-2368: hyperflow-awslambda-executor-dev-aws-executor-2368\\r\\n  aws-executor-2432: hyperflow-awslambda-executor-dev-aws-executor-2432\\r\\n  aws-executor-2496: hyperflow-awslambda-executor-dev-aws-executor-2496\\r\\n  aws-executor-256: hyperflow-awslambda-executor-dev-aws-executor-256\\r\\n  aws-executor-2560: hyperflow-awslambda-executor-dev-aws-executor-2560\\r\\n  aws-executor-2624: hyperflow-awslambda-executor-dev-aws-executor-2624\\r\\n  aws-executor-2688: hyperflow-awslambda-executor-dev-aws-executor-2688\\r\\n  aws-executor-2752: hyperflow-awslambda-executor-dev-aws-executor-2752\\r\\n  aws-executor-2816: hyperflow-awslambda-executor-dev-aws-executor-2816\\r\\n  aws-executor-2880: hyperflow-awslambda-executor-dev-aws-executor-2880\\r\\n  aws-executor-2944: hyperflow-awslambda-executor-dev-aws-executor-2944\\r\\n  aws-executor-3008: hyperflow-awslambda-executor-dev-aws-executor-3008\\r\\n  aws-executor-320: hyperflow-awslambda-executor-dev-aws-executor-320\\r\\n  aws-executor-384: hyperflow-awslambda-executor-dev-aws-executor-384\\r\\n  aws-executor-448: hyperflow-awslambda-executor-dev-aws-executor-448\\r\\n  aws-executor-512: hyperflow-awslambda-executor-dev-aws-executor-512\\r\\n  aws-executor-576: hyperflow-awslambda-executor-dev-aws-executor-576\\r\\n  aws-executor-640: hyperflow-awslambda-executor-dev-aws-executor-640\\r\\n  aws-executor-704: hyperflow-awslambda-executor-dev-aws-executor-704\\r\\n  aws-executor-768: hyperflow-awslambda-executor-dev-aws-executor-768\\r\\n  aws-executor-832: hyperflow-awslambda-executor-dev-aws-executor-832\\r\\n  aws-executor-896: hyperflow-awslambda-executor-dev-aws-executor-896\\r\\n  aws-executor-960: hyperflow-awslambda-executor-dev-aws-executor-960\\r\\n\\x1b[33mlayers:\\x1b[39m\\r\\n  None\\r\\nServerless: \\x1b[33mRemoving old service artifacts from S3...\\x1b[39m\\r\\n\\r\\n******************************************************************************\\r\\nServerless: \\x1b[33mUpdate available. Run \"npm install -g serverless@^2.9.0\" to update\\x1b[39m\\r\\n******************************************************************************\\r\\n\\r\\n'"
      ]
     },
     "execution_count": 7,
     "metadata": {},
     "output_type": "execute_result"
    }
   ],
   "source": [
    "cap.stdout"
   ]
  },
  {
   "cell_type": "code",
   "execution_count": 47,
   "metadata": {},
   "outputs": [
    {
     "data": {
      "text/plain": [
       "46"
      ]
     },
     "execution_count": 47,
     "metadata": {},
     "output_type": "execute_result"
    }
   ],
   "source": [
    "len(lambda_possible_ram)"
   ]
  },
  {
   "cell_type": "code",
   "execution_count": null,
   "metadata": {},
   "outputs": [],
   "source": []
  }
 ],
 "metadata": {
  "kernelspec": {
   "display_name": "Python 3",
   "language": "python",
   "name": "python3"
  },
  "language_info": {
   "codemirror_mode": {
    "name": "ipython",
    "version": 3
   },
   "file_extension": ".py",
   "mimetype": "text/x-python",
   "name": "python",
   "nbconvert_exporter": "python",
   "pygments_lexer": "ipython3",
   "version": "3.8.5"
  }
 },
 "nbformat": 4,
 "nbformat_minor": 4
}
